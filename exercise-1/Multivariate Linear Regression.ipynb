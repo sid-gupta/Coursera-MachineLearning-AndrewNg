{
 "cells": [
  {
   "cell_type": "markdown",
   "metadata": {},
   "source": [
    "# Linear Regression with Muliple Features"
   ]
  },
  {
   "cell_type": "code",
   "execution_count": 1,
   "metadata": {},
   "outputs": [
    {
     "name": "stdout",
     "output_type": "stream",
     "text": [
      "Pixiedust database opened successfully\n"
     ]
    },
    {
     "data": {
      "text/html": [
       "\n",
       "        <div style=\"margin:10px\">\n",
       "            <a href=\"https://github.com/ibm-watson-data-lab/pixiedust\" target=\"_new\">\n",
       "                <img src=\"https://github.com/ibm-watson-data-lab/pixiedust/raw/master/docs/_static/pd_icon32.png\" style=\"float:left;margin-right:10px\"/>\n",
       "            </a>\n",
       "            <span>Pixiedust version 1.1.17</span>\n",
       "        </div>\n",
       "        "
      ],
      "text/plain": [
       "<IPython.core.display.HTML object>"
      ]
     },
     "metadata": {},
     "output_type": "display_data"
    }
   ],
   "source": [
    "import numpy as np\n",
    "import matplotlib.pyplot as plt\n",
    "%matplotlib inline\n",
    "import pixiedust"
   ]
  },
  {
   "cell_type": "markdown",
   "metadata": {},
   "source": [
    "## Getting data"
   ]
  },
  {
   "cell_type": "code",
   "execution_count": 2,
   "metadata": {},
   "outputs": [
    {
     "name": "stdout",
     "output_type": "stream",
     "text": [
      "matrix shape (47, 3)\n"
     ]
    }
   ],
   "source": [
    "dataFile = 'ex1data2.txt'\n",
    "# loading data\n",
    "matrix = np.loadtxt(dataFile, delimiter=',')\n",
    "print('matrix shape', matrix.shape)"
   ]
  },
  {
   "cell_type": "code",
   "execution_count": 3,
   "metadata": {},
   "outputs": [
    {
     "name": "stdout",
     "output_type": "stream",
     "text": [
      "xOrig shape (47, 2)\n",
      "yOrig shape (47,)\n"
     ]
    }
   ],
   "source": [
    "xOrig = matrix[:,:-1]\n",
    "yOrig = matrix[:, -1]\n",
    "print('xOrig shape', xOrig.shape)\n",
    "print('yOrig shape', yOrig.shape)"
   ]
  },
  {
   "cell_type": "markdown",
   "metadata": {},
   "source": [
    "## Preparing data and models"
   ]
  },
  {
   "cell_type": "markdown",
   "metadata": {},
   "source": [
    "### Functions to work with the models"
   ]
  },
  {
   "cell_type": "code",
   "execution_count": 4,
   "metadata": {
    "pixiedust": {
     "displayParams": {}
    }
   },
   "outputs": [],
   "source": [
    "def get_model(trainingX, trainingY, num_iterations, learning_rate, hypothesis='zeros', feature_scaling=True):\n",
    "    num_of_examples = trainingX.shape[0]\n",
    "    num_of_features = trainingX.shape[1]\n",
    "    \n",
    "    # hypothesis is one more than the number of features for the 'extra' feature of x_nought\n",
    "    if hypothesis == 'zeros':\n",
    "        hypo = np.zeros((num_of_features + 1, 1))\n",
    "    else:\n",
    "        hypo = np.random.rand(num_of_features + 1, 1)\n",
    "    \n",
    "    normalization_mean = np.mean(trainingX, axis=0)\n",
    "    normalization_std = np.std(trainingX, axis=0)\n",
    "    \n",
    "    return {\n",
    "        'num_of_examples': num_of_examples,\n",
    "        'num_of_features': num_of_features,\n",
    "        'trainingX': trainingX,\n",
    "        'trainingY': trainingY,\n",
    "        'normalization_mean': normalization_mean,\n",
    "        'normalization_std': normalization_std,\n",
    "        'num_iterations': num_iterations,\n",
    "        'learning_rate': learning_rate,\n",
    "        'hypothesis': hypo,\n",
    "        'feature_scaling': feature_scaling,\n",
    "        'cost': None\n",
    "    }"
   ]
  },
  {
   "cell_type": "code",
   "execution_count": 5,
   "metadata": {},
   "outputs": [],
   "source": [
    "def get_output(hypothesis, trainingX):\n",
    "    return np.dot(trainingX, hypothesis)"
   ]
  },
  {
   "cell_type": "code",
   "execution_count": 6,
   "metadata": {},
   "outputs": [],
   "source": [
    "def get_cost (hypothesis, trainingX, trainingY):\n",
    "    return np.sum(np.square(get_output(hypothesis, trainingX)-trainingY), axis=0)/(2 * trainingX.shape[0])"
   ]
  },
  {
   "cell_type": "code",
   "execution_count": 7,
   "metadata": {},
   "outputs": [],
   "source": [
    "def get_differential (hypothesis, trainingX, trainingY):\n",
    "    return np.dot(trainingX.transpose(), get_output(hypothesis, trainingX)-trainingY) / (trainingX.shape[0])"
   ]
  },
  {
   "cell_type": "code",
   "execution_count": 21,
   "metadata": {},
   "outputs": [],
   "source": [
    "def get_prediction(model, testInput):\n",
    "    modifiedInput = np.copy(testInput)\n",
    "    if model['feature_scaling']:\n",
    "        modifiedInput = (testInput - model['normalization_mean']) / model['normalization_std']\n",
    "    modifiedInput = np.concatenate((np.ones((testInput.shape[0], 1)), modifiedInput), axis=1)\n",
    "    return get_output(model['hypothesis'], modifiedInput)"
   ]
  },
  {
   "cell_type": "code",
   "execution_count": 8,
   "metadata": {},
   "outputs": [],
   "source": [
    "def gradient_descent(hypothesis, trainingX, trainingY, num_iterations, learning_rate):\n",
    "    costs = np.zeros(num_iterations + 1)\n",
    "    costs[0] = get_cost(hypothesis, trainingX, trainingY)\n",
    "    for iteration in range(num_iterations):\n",
    "        hypothesis -= learning_rate * get_differential(hypothesis, trainingX, trainingY)\n",
    "        costs[iteration + 1] = get_cost(hypothesis, trainingX, trainingY)\n",
    "    return (hypothesis, costs)"
   ]
  },
  {
   "cell_type": "code",
   "execution_count": 9,
   "metadata": {
    "pixiedust": {
     "displayParams": {}
    }
   },
   "outputs": [],
   "source": [
    "def train_model(model):\n",
    "    trainingX = model['trainingX'].copy()\n",
    "    trainingY = model['trainingY']\n",
    "    \n",
    "    # prepare data for training\n",
    "        # 0. Do the feature scaling\n",
    "    if model['feature_scaling']:\n",
    "        trainingX = (trainingX - model['normalization_mean']) / model['normalization_std']\n",
    "        # 1. add the x_nought feature of all ones\n",
    "    trainingX = np.concatenate((np.ones((model['num_of_examples'], 1)), trainingX), axis=1)\n",
    "        \n",
    "    initialHypothesis = model['hypothesis']\n",
    "    num_iterations = model['num_iterations']\n",
    "    learning_rate = model['learning_rate']\n",
    "    (finalHypothesis, costs) = gradient_descent(initialHypothesis, trainingX, trainingY, num_iterations, learning_rate)\n",
    "    model['hypothesis'] = finalHypothesis\n",
    "    model['costs'] = costs"
   ]
  },
  {
   "cell_type": "code",
   "execution_count": 10,
   "metadata": {},
   "outputs": [],
   "source": [
    "num_of_examples = xOrig.shape[0]\n",
    "num_of_feature = xOrig.shape[1]\n",
    "\n",
    "trainingX = xOrig.reshape((num_of_examples, num_of_feature))\n",
    "trainingY = yOrig.reshape((num_of_examples, 1))"
   ]
  },
  {
   "cell_type": "code",
   "execution_count": 11,
   "metadata": {
    "pixiedust": {
     "displayParams": {}
    }
   },
   "outputs": [],
   "source": [
    "learning_rates = [0.01, 0.03, 0.1, 0.3]\n",
    "iterations = [2000, 2000, 2000, 2000]\n",
    "\n",
    "# get the models based on the above parameters. These can be added or modified\n",
    "Models = [get_model(trainingX, trainingY, num_iterations, learning_rate) for (num_iterations, learning_rate) in zip(iterations, learning_rates)]"
   ]
  },
  {
   "cell_type": "markdown",
   "metadata": {},
   "source": [
    "## Training"
   ]
  },
  {
   "cell_type": "code",
   "execution_count": 13,
   "metadata": {},
   "outputs": [],
   "source": [
    "for model in Models:\n",
    "    train_model(model)"
   ]
  },
  {
   "cell_type": "code",
   "execution_count": 14,
   "metadata": {},
   "outputs": [
    {
     "name": "stdout",
     "output_type": "stream",
     "text": [
      "\tfinal cost 2043280082.9261768\n",
      "\thypothesis [[340412.65894002]\n",
      " [109439.22578243]\n",
      " [ -6569.78416695]]\n",
      "------------------\n",
      "\tfinal cost 2043280050.6028287\n",
      "\thypothesis [[340412.65957447]\n",
      " [109447.79646948]\n",
      " [ -6578.35485399]]\n",
      "------------------\n",
      "\tfinal cost 2043280050.6028287\n",
      "\thypothesis [[340412.65957447]\n",
      " [109447.79646964]\n",
      " [ -6578.35485416]]\n",
      "------------------\n",
      "\tfinal cost 2043280050.6028292\n",
      "\thypothesis [[340412.65957447]\n",
      " [109447.79646964]\n",
      " [ -6578.35485416]]\n",
      "------------------\n"
     ]
    }
   ],
   "source": [
    "for model in Models:\n",
    "    print('\\tfinal cost', model['costs'][-1])\n",
    "    print('\\thypothesis', model['hypothesis'])\n",
    "    print('------------------')"
   ]
  },
  {
   "cell_type": "markdown",
   "metadata": {},
   "source": [
    "## Visualizing cost"
   ]
  },
  {
   "cell_type": "code",
   "execution_count": 20,
   "metadata": {},
   "outputs": [
    {
     "data": {
      "image/png": "[encoded data removed]",
      "text/plain": [
       "<Figure size 432x288 with 1 Axes>"
      ]
     },
     "metadata": {
      "needs_background": "light"
     },
     "output_type": "display_data"
    },
    {
     "data": {
      "image/png": "[encoded data removed]",
      "text/plain": [
       "<Figure size 432x288 with 1 Axes>"
      ]
     },
     "metadata": {
      "needs_background": "light"
     },
     "output_type": "display_data"
    },
    {
     "data": {
      "image/png": "[encoded data removed]",
      "text/plain": [
       "<Figure size 432x288 with 1 Axes>"
      ]
     },
     "metadata": {
      "needs_background": "light"
     },
     "output_type": "display_data"
    },
    {
     "data": {
      "image/png": "[encoded data removed]",
      "text/plain": [
       "<Figure size 432x288 with 1 Axes>"
      ]
     },
     "metadata": {
      "needs_background": "light"
     },
     "output_type": "display_data"
    }
   ],
   "source": [
    "for model in Models:\n",
    "    plt.figure()\n",
    "    plt.plot(model['costs'])\n",
    "    plt.title('Learning Rate: ' + str(model['learning_rate']))\n",
    "    plt.xlabel('Iterations')\n",
    "    plt.ylabel('Cost')"
   ]
  },
  {
   "cell_type": "markdown",
   "metadata": {},
   "source": [
    "_Making Prediction for 1650 sq-ft and 3 bedrooms. Gives same answer as by using normal equations (see the normal equations notebook)_"
   ]
  },
  {
   "cell_type": "code",
   "execution_count": 23,
   "metadata": {},
   "outputs": [
    {
     "data": {
      "text/plain": [
       "array([[293081.46433493]])"
      ]
     },
     "execution_count": 23,
     "metadata": {},
     "output_type": "execute_result"
    }
   ],
   "source": [
    "get_prediction(Models[1], np.array([[1650, 3]]))"
   ]
  },
  {
   "cell_type": "code",
   "execution_count": null,
   "metadata": {},
   "outputs": [],
   "source": []
  }
 ],
 "metadata": {
  "kernelspec": {
   "display_name": "Python 3",
   "language": "python",
   "name": "python3"
  },
  "language_info": {
   "codemirror_mode": {
    "name": "ipython",
    "version": 3
   },
   "file_extension": ".py",
   "mimetype": "text/x-python",
   "name": "python",
   "nbconvert_exporter": "python",
   "pygments_lexer": "ipython3",
   "version": "3.7.0"
  },
  "varInspector": {
   "cols": {
    "lenName": 16,
    "lenType": 16,
    "lenVar": 40
   },
   "kernels_config": {
    "python": {
     "delete_cmd_postfix": "",
     "delete_cmd_prefix": "del ",
     "library": "var_list.py",
     "varRefreshCmd": "print(var_dic_list())"
    },
    "r": {
     "delete_cmd_postfix": ") ",
     "delete_cmd_prefix": "rm(",
     "library": "var_list.r",
     "varRefreshCmd": "cat(var_dic_list()) "
    }
   },
   "types_to_exclude": [
    "module",
    "function",
    "builtin_function_or_method",
    "instance",
    "_Feature"
   ],
   "window_display": true
  }
 },
 "nbformat": 4,
 "nbformat_minor": 2
}
